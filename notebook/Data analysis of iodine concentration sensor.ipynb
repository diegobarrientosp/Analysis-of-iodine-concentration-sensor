{
 "cells": [
  {
   "cell_type": "markdown",
   "id": "a78a7c44",
   "metadata": {},
   "source": [
    "# Introduction"
   ]
  },
  {
   "cell_type": "raw",
   "id": "77d8b17c",
   "metadata": {},
   "source": [
    "As a context, a sensor was installed in the process that measures the concentration of iodine in kerosene according to the color of the solution. The redder the color, the higher the concentration of the sample. This equipment was installed in order to replace an analysis that is done in a laboratory in order to perform a real-time control in the solvent extraction process.\n",
    "\n",
    "The methodology was tested in the laboratory, but is now in the industrial testing phase. This notebook has the objective of being able to cross-reference the sensor information that is stored in the control system (PLC) with the laboratory data, in order to see how well the sensor is measuring. The data used are detailed in the \"Data loading\" section.\n",
    "\n",
    "A flowsheet of this part of the process is shown in the portfolio pdf document."
   ]
  },
  {
   "cell_type": "markdown",
   "id": "5cbd447b",
   "metadata": {},
   "source": [
    "# Libreries"
   ]
  },
  {
   "cell_type": "code",
   "execution_count": 23,
   "id": "40c6d453",
   "metadata": {},
   "outputs": [],
   "source": [
    "import pandas as pd\n",
    "import seaborn as sns\n",
    "import matplotlib.pyplot as plt"
   ]
  },
  {
   "cell_type": "markdown",
   "id": "20f24022",
   "metadata": {},
   "source": [
    "# Data loading"
   ]
  },
  {
   "cell_type": "code",
   "execution_count": 7,
   "id": "1640cab6",
   "metadata": {},
   "outputs": [
    {
     "data": {
      "text/html": [
       "<div>\n",
       "<style scoped>\n",
       "    .dataframe tbody tr th:only-of-type {\n",
       "        vertical-align: middle;\n",
       "    }\n",
       "\n",
       "    .dataframe tbody tr th {\n",
       "        vertical-align: top;\n",
       "    }\n",
       "\n",
       "    .dataframe thead th {\n",
       "        text-align: right;\n",
       "    }\n",
       "</style>\n",
       "<table border=\"1\" class=\"dataframe\">\n",
       "  <thead>\n",
       "    <tr style=\"text-align: right;\">\n",
       "      <th></th>\n",
       "      <th>Timestamp</th>\n",
       "      <th>Concentration</th>\n",
       "      <th>CU</th>\n",
       "    </tr>\n",
       "  </thead>\n",
       "  <tbody>\n",
       "    <tr>\n",
       "      <th>0</th>\n",
       "      <td>2024-07-24 12:00:00</td>\n",
       "      <td>-0.026042</td>\n",
       "      <td>0.062462</td>\n",
       "    </tr>\n",
       "    <tr>\n",
       "      <th>1</th>\n",
       "      <td>2024-07-24 12:00:30</td>\n",
       "      <td>Null</td>\n",
       "      <td>0.061118</td>\n",
       "    </tr>\n",
       "    <tr>\n",
       "      <th>2</th>\n",
       "      <td>2024-07-24 12:01:00</td>\n",
       "      <td>Null</td>\n",
       "      <td>0.065011</td>\n",
       "    </tr>\n",
       "    <tr>\n",
       "      <th>3</th>\n",
       "      <td>2024-07-24 12:01:30</td>\n",
       "      <td>-0.031562</td>\n",
       "      <td>0.07296</td>\n",
       "    </tr>\n",
       "    <tr>\n",
       "      <th>4</th>\n",
       "      <td>2024-07-24 12:02:00</td>\n",
       "      <td>-0.028281</td>\n",
       "      <td>0.074791</td>\n",
       "    </tr>\n",
       "  </tbody>\n",
       "</table>\n",
       "</div>"
      ],
      "text/plain": [
       "            Timestamp Concentration        CU\n",
       "0 2024-07-24 12:00:00     -0.026042  0.062462\n",
       "1 2024-07-24 12:00:30          Null  0.061118\n",
       "2 2024-07-24 12:01:00          Null  0.065011\n",
       "3 2024-07-24 12:01:30     -0.031562   0.07296\n",
       "4 2024-07-24 12:02:00     -0.028281  0.074791"
      ]
     },
     "execution_count": 7,
     "metadata": {},
     "output_type": "execute_result"
    }
   ],
   "source": [
    "# Average sensor data is uploaded every 30 seconds from the control system (PLC) from 07/24 to 07/31\n",
    "\n",
    "df_avg=pd.read_excel('colorimeter_data.xlsx', sheet_name='average')\n",
    "df_avg.head()"
   ]
  },
  {
   "cell_type": "markdown",
   "id": "309840ea",
   "metadata": {},
   "source": [
    "The laboratory analysis data is loaded during the same period interval, consider that these samples for analysis are taken every 2 hours, which is the time indicated in the \"Time\" column, however, the operators recorded the exact time at which the sample was taken in the \"Timestamp\" column, this will help to cross-reference the information with the PLC data."
   ]
  },
  {
   "cell_type": "code",
   "execution_count": 8,
   "id": "30fd79ba",
   "metadata": {},
   "outputs": [
    {
     "data": {
      "text/html": [
       "<div>\n",
       "<style scoped>\n",
       "    .dataframe tbody tr th:only-of-type {\n",
       "        vertical-align: middle;\n",
       "    }\n",
       "\n",
       "    .dataframe tbody tr th {\n",
       "        vertical-align: top;\n",
       "    }\n",
       "\n",
       "    .dataframe thead th {\n",
       "        text-align: right;\n",
       "    }\n",
       "</style>\n",
       "<table border=\"1\" class=\"dataframe\">\n",
       "  <thead>\n",
       "    <tr style=\"text-align: right;\">\n",
       "      <th></th>\n",
       "      <th>Day</th>\n",
       "      <th>Time</th>\n",
       "      <th>Timestamp</th>\n",
       "      <th>Iodine concentration</th>\n",
       "    </tr>\n",
       "  </thead>\n",
       "  <tbody>\n",
       "    <tr>\n",
       "      <th>0</th>\n",
       "      <td>2024-07-24</td>\n",
       "      <td>1900-01-04 19:00:00</td>\n",
       "      <td>07/24/2024 17:38:00</td>\n",
       "      <td>2.51</td>\n",
       "    </tr>\n",
       "    <tr>\n",
       "      <th>1</th>\n",
       "      <td>2024-07-24</td>\n",
       "      <td>1900-01-04 23:00:00</td>\n",
       "      <td>07/24/2024 21:24:00</td>\n",
       "      <td>2.59</td>\n",
       "    </tr>\n",
       "    <tr>\n",
       "      <th>2</th>\n",
       "      <td>2024-07-26</td>\n",
       "      <td>1900-01-04 13:00:00</td>\n",
       "      <td>07/26/2024 11:47:00</td>\n",
       "      <td>2.09</td>\n",
       "    </tr>\n",
       "    <tr>\n",
       "      <th>3</th>\n",
       "      <td>2024-07-26</td>\n",
       "      <td>1900-01-04 19:00:00</td>\n",
       "      <td>07/26/2024 17:39:00</td>\n",
       "      <td>2.80</td>\n",
       "    </tr>\n",
       "    <tr>\n",
       "      <th>4</th>\n",
       "      <td>2024-07-26</td>\n",
       "      <td>1900-01-04 21:00:00</td>\n",
       "      <td>07/26/2024 19:30:00</td>\n",
       "      <td>2.68</td>\n",
       "    </tr>\n",
       "  </tbody>\n",
       "</table>\n",
       "</div>"
      ],
      "text/plain": [
       "         Day                Time            Timestamp  Iodine concentration\n",
       "0 2024-07-24 1900-01-04 19:00:00  07/24/2024 17:38:00                  2.51\n",
       "1 2024-07-24 1900-01-04 23:00:00  07/24/2024 21:24:00                  2.59\n",
       "2 2024-07-26 1900-01-04 13:00:00  07/26/2024 11:47:00                  2.09\n",
       "3 2024-07-26 1900-01-04 19:00:00  07/26/2024 17:39:00                  2.80\n",
       "4 2024-07-26 1900-01-04 21:00:00  07/26/2024 19:30:00                  2.68"
      ]
     },
     "execution_count": 8,
     "metadata": {},
     "output_type": "execute_result"
    }
   ],
   "source": [
    "# We upload the laboratory data\n",
    "\n",
    "df_lab=pd.read_excel('colorimeter_data.xlsx', sheet_name='laboratory')\n",
    "df_lab.head()"
   ]
  },
  {
   "cell_type": "markdown",
   "id": "0782b8a2",
   "metadata": {},
   "source": [
    "# Data Cleaning and Processing"
   ]
  },
  {
   "cell_type": "markdown",
   "id": "eb7307e1",
   "metadata": {},
   "source": [
    "## Sensor data"
   ]
  },
  {
   "cell_type": "code",
   "execution_count": 9,
   "id": "8d8e392c",
   "metadata": {},
   "outputs": [
    {
     "name": "stdout",
     "output_type": "stream",
     "text": [
      "<class 'pandas.core.frame.DataFrame'>\n",
      "RangeIndex: 20560 entries, 0 to 20559\n",
      "Data columns (total 3 columns):\n",
      " #   Column         Non-Null Count  Dtype         \n",
      "---  ------         --------------  -----         \n",
      " 0   Timestamp      20560 non-null  datetime64[ns]\n",
      " 1   Concentration  20560 non-null  object        \n",
      " 2   CU             20560 non-null  object        \n",
      "dtypes: datetime64[ns](1), object(2)\n",
      "memory usage: 482.0+ KB\n"
     ]
    }
   ],
   "source": [
    "# The data type of the sensor data frame is reviewed\n",
    "df_avg.info()"
   ]
  },
  {
   "cell_type": "code",
   "execution_count": 10,
   "id": "780a9c05",
   "metadata": {},
   "outputs": [],
   "source": [
    "# We need data of the numeric type, the operation is performed\n",
    "df_avg['Concentration'] = pd.to_numeric(df_avg['Concentration'], errors='coerce')\n",
    "df_avg['CU'] = pd.to_numeric(df_avg['CU'], errors='coerce')"
   ]
  },
  {
   "cell_type": "code",
   "execution_count": 11,
   "id": "fb27a197",
   "metadata": {},
   "outputs": [
    {
     "data": {
      "text/plain": [
       "Timestamp           0\n",
       "Concentration    1459\n",
       "CU               1019\n",
       "dtype: int64"
      ]
     },
     "execution_count": 11,
     "metadata": {},
     "output_type": "execute_result"
    }
   ],
   "source": [
    "# We review the null data in the dataframe\n",
    "df_avg.isnull().sum()"
   ]
  },
  {
   "cell_type": "raw",
   "id": "8247bc36",
   "metadata": {},
   "source": [
    "We fill the null data with the interpolation of the sensor data from the PLC, during the same time interval and with the same frequency."
   ]
  },
  {
   "cell_type": "code",
   "execution_count": 12,
   "id": "6d58faa3",
   "metadata": {},
   "outputs": [
    {
     "data": {
      "text/html": [
       "<div>\n",
       "<style scoped>\n",
       "    .dataframe tbody tr th:only-of-type {\n",
       "        vertical-align: middle;\n",
       "    }\n",
       "\n",
       "    .dataframe tbody tr th {\n",
       "        vertical-align: top;\n",
       "    }\n",
       "\n",
       "    .dataframe thead th {\n",
       "        text-align: right;\n",
       "    }\n",
       "</style>\n",
       "<table border=\"1\" class=\"dataframe\">\n",
       "  <thead>\n",
       "    <tr style=\"text-align: right;\">\n",
       "      <th></th>\n",
       "      <th>Timestamp</th>\n",
       "      <th>Concentration</th>\n",
       "      <th>CU</th>\n",
       "    </tr>\n",
       "  </thead>\n",
       "  <tbody>\n",
       "    <tr>\n",
       "      <th>0</th>\n",
       "      <td>2024-07-24 12:00:00</td>\n",
       "      <td>-0.047000</td>\n",
       "      <td>0.066354</td>\n",
       "    </tr>\n",
       "    <tr>\n",
       "      <th>1</th>\n",
       "      <td>2024-07-24 12:00:30</td>\n",
       "      <td>-0.041719</td>\n",
       "      <td>0.058402</td>\n",
       "    </tr>\n",
       "    <tr>\n",
       "      <th>2</th>\n",
       "      <td>2024-07-24 12:01:00</td>\n",
       "      <td>-0.037531</td>\n",
       "      <td>0.062899</td>\n",
       "    </tr>\n",
       "    <tr>\n",
       "      <th>3</th>\n",
       "      <td>2024-07-24 12:01:30</td>\n",
       "      <td>-0.033344</td>\n",
       "      <td>0.076766</td>\n",
       "    </tr>\n",
       "    <tr>\n",
       "      <th>4</th>\n",
       "      <td>2024-07-24 12:02:00</td>\n",
       "      <td>-0.000935</td>\n",
       "      <td>0.084006</td>\n",
       "    </tr>\n",
       "  </tbody>\n",
       "</table>\n",
       "</div>"
      ],
      "text/plain": [
       "            Timestamp  Concentration        CU\n",
       "0 2024-07-24 12:00:00      -0.047000  0.066354\n",
       "1 2024-07-24 12:00:30      -0.041719  0.058402\n",
       "2 2024-07-24 12:01:00      -0.037531  0.062899\n",
       "3 2024-07-24 12:01:30      -0.033344  0.076766\n",
       "4 2024-07-24 12:02:00      -0.000935  0.084006"
      ]
     },
     "execution_count": 12,
     "metadata": {},
     "output_type": "execute_result"
    }
   ],
   "source": [
    "# Interpolated data is loaded\n",
    "\n",
    "df_inter=pd.read_excel('colorimeter_data.xlsx', sheet_name='interpolation')\n",
    "df_inter.head()"
   ]
  },
  {
   "cell_type": "code",
   "execution_count": 14,
   "id": "fd08a60c",
   "metadata": {},
   "outputs": [
    {
     "name": "stdout",
     "output_type": "stream",
     "text": [
      "<class 'pandas.core.frame.DataFrame'>\n",
      "RangeIndex: 20560 entries, 0 to 20559\n",
      "Data columns (total 3 columns):\n",
      " #   Column         Non-Null Count  Dtype         \n",
      "---  ------         --------------  -----         \n",
      " 0   Timestamp      20560 non-null  datetime64[ns]\n",
      " 1   Concentration  20560 non-null  float64       \n",
      " 2   CU             20560 non-null  float64       \n",
      "dtypes: datetime64[ns](1), float64(2)\n",
      "memory usage: 482.0 KB\n"
     ]
    }
   ],
   "source": [
    "# The data type of the data frame of the interpolated sensor data is reviewed\n",
    "df_inter.info()"
   ]
  },
  {
   "cell_type": "code",
   "execution_count": 15,
   "id": "ad8503d7",
   "metadata": {},
   "outputs": [],
   "source": [
    "# The null data in the average data frame is filled with the interpolated data\n",
    "df_avg.set_index('Timestamp', inplace=True)\n",
    "df_inter.set_index('Timestamp', inplace=True)\n",
    "promedio_filled = df_avg.fillna(df_inter)\n",
    "promedio_filled.reset_index(inplace=True)"
   ]
  },
  {
   "cell_type": "markdown",
   "id": "354d882b",
   "metadata": {},
   "source": [
    "## Lab data"
   ]
  },
  {
   "cell_type": "code",
   "execution_count": 16,
   "id": "417e25c0",
   "metadata": {},
   "outputs": [
    {
     "name": "stdout",
     "output_type": "stream",
     "text": [
      "<class 'pandas.core.frame.DataFrame'>\n",
      "RangeIndex: 10 entries, 0 to 9\n",
      "Data columns (total 4 columns):\n",
      " #   Column                Non-Null Count  Dtype         \n",
      "---  ------                --------------  -----         \n",
      " 0   Day                   10 non-null     datetime64[ns]\n",
      " 1   Time                  10 non-null     datetime64[ns]\n",
      " 2   Timestamp             10 non-null     object        \n",
      " 3   Iodine concentration  10 non-null     float64       \n",
      "dtypes: datetime64[ns](2), float64(1), object(1)\n",
      "memory usage: 448.0+ bytes\n"
     ]
    }
   ],
   "source": [
    "# The Laboratory data type is reviewed\n",
    "df_lab.info()"
   ]
  },
  {
   "cell_type": "code",
   "execution_count": 18,
   "id": "61a8926a",
   "metadata": {},
   "outputs": [
    {
     "name": "stdout",
     "output_type": "stream",
     "text": [
      "<class 'pandas.core.frame.DataFrame'>\n",
      "RangeIndex: 10 entries, 0 to 9\n",
      "Data columns (total 4 columns):\n",
      " #   Column                Non-Null Count  Dtype         \n",
      "---  ------                --------------  -----         \n",
      " 0   Day                   10 non-null     datetime64[ns]\n",
      " 1   Time                  10 non-null     datetime64[ns]\n",
      " 2   Timestamp             10 non-null     datetime64[ns]\n",
      " 3   Iodine concentration  10 non-null     float64       \n",
      "dtypes: datetime64[ns](3), float64(1)\n",
      "memory usage: 448.0 bytes\n"
     ]
    }
   ],
   "source": [
    "# The \"Timestamp\" column is transformed into the correct format\n",
    "df_lab['Timestamp'] = pd.to_datetime(df_lab['Timestamp'])\n",
    "df_lab.info()"
   ]
  },
  {
   "cell_type": "markdown",
   "id": "01f67e88",
   "metadata": {},
   "source": [
    "# Results"
   ]
  },
  {
   "cell_type": "code",
   "execution_count": 19,
   "id": "f143ed0a",
   "metadata": {},
   "outputs": [
    {
     "data": {
      "text/html": [
       "<div>\n",
       "<style scoped>\n",
       "    .dataframe tbody tr th:only-of-type {\n",
       "        vertical-align: middle;\n",
       "    }\n",
       "\n",
       "    .dataframe tbody tr th {\n",
       "        vertical-align: top;\n",
       "    }\n",
       "\n",
       "    .dataframe thead th {\n",
       "        text-align: right;\n",
       "    }\n",
       "</style>\n",
       "<table border=\"1\" class=\"dataframe\">\n",
       "  <thead>\n",
       "    <tr style=\"text-align: right;\">\n",
       "      <th></th>\n",
       "      <th>Timestamp</th>\n",
       "      <th>Iodine concentration</th>\n",
       "      <th>Concentration</th>\n",
       "      <th>CU</th>\n",
       "    </tr>\n",
       "  </thead>\n",
       "  <tbody>\n",
       "    <tr>\n",
       "      <th>0</th>\n",
       "      <td>2024-07-24 17:38:00</td>\n",
       "      <td>2.51</td>\n",
       "      <td>3.163125</td>\n",
       "      <td>0.194236</td>\n",
       "    </tr>\n",
       "    <tr>\n",
       "      <th>1</th>\n",
       "      <td>2024-07-24 21:24:00</td>\n",
       "      <td>2.59</td>\n",
       "      <td>3.235020</td>\n",
       "      <td>0.197173</td>\n",
       "    </tr>\n",
       "    <tr>\n",
       "      <th>2</th>\n",
       "      <td>2024-07-26 11:47:00</td>\n",
       "      <td>2.09</td>\n",
       "      <td>2.764727</td>\n",
       "      <td>0.216067</td>\n",
       "    </tr>\n",
       "    <tr>\n",
       "      <th>3</th>\n",
       "      <td>2024-07-26 17:39:00</td>\n",
       "      <td>2.80</td>\n",
       "      <td>3.814625</td>\n",
       "      <td>0.233435</td>\n",
       "    </tr>\n",
       "    <tr>\n",
       "      <th>4</th>\n",
       "      <td>2024-07-26 19:30:00</td>\n",
       "      <td>2.68</td>\n",
       "      <td>3.138996</td>\n",
       "      <td>0.231124</td>\n",
       "    </tr>\n",
       "  </tbody>\n",
       "</table>\n",
       "</div>"
      ],
      "text/plain": [
       "            Timestamp  Iodine concentration  Concentration        CU\n",
       "0 2024-07-24 17:38:00                  2.51       3.163125  0.194236\n",
       "1 2024-07-24 21:24:00                  2.59       3.235020  0.197173\n",
       "2 2024-07-26 11:47:00                  2.09       2.764727  0.216067\n",
       "3 2024-07-26 17:39:00                  2.80       3.814625  0.233435\n",
       "4 2024-07-26 19:30:00                  2.68       3.138996  0.231124"
      ]
     },
     "execution_count": 19,
     "metadata": {},
     "output_type": "execute_result"
    }
   ],
   "source": [
    "# Information is cross-referenced between laboratory and sensor data.\n",
    "df_lab = df_lab[['Timestamp', 'Iodine concentration']]\n",
    "df_merge = pd.merge(df_lab, promedio_filled[['Timestamp', 'Concentration', 'CU']], on='Timestamp', how='left')\n",
    "df_merge.head()"
   ]
  },
  {
   "cell_type": "markdown",
   "id": "9aa77729",
   "metadata": {},
   "source": [
    "The data is graphed to better analyze the data."
   ]
  },
  {
   "cell_type": "code",
   "execution_count": 26,
   "id": "6ecef9bb",
   "metadata": {},
   "outputs": [
    {
     "data": {
      "image/png": "[encoded data removed]",
      "text/plain": [
       "<Figure size 1008x576 with 1 Axes>"
      ]
     },
     "metadata": {},
     "output_type": "display_data"
    }
   ],
   "source": [
    "# The graph is configured\n",
    "sns.set_theme(style=\"whitegrid\", context=\"talk\", palette=\"muted\")\n",
    "\n",
    "plt.figure(figsize=(14, 8))  # Chart size\n",
    "\n",
    "sns.lineplot(data=df_merge, x=\"Timestamp\", y=\"Iodine concentration\", label=\"Laboratory concentration)\", linewidth=2.5)\n",
    "sns.lineplot(data=df_merge, x=\"Timestamp\", y=\"Concentration\", label=\"Sensor concentration)\", linewidth=2.5, linestyle=\"--\")\n",
    "\n",
    "plt.title(\"Time series of concentrations\", fontsize=18, weight='bold')\n",
    "plt.xlabel(\"Time\", fontsize=14)\n",
    "plt.ylabel(\"Concentration (g/L)\", fontsize=14)\n",
    "plt.legend(title=\"Variables\", fontsize=12)\n",
    "plt.xticks(rotation=45, fontsize=12)\n",
    "plt.yticks(fontsize=12)\n",
    "plt.tight_layout()\n",
    "\n",
    "# The graph is shown\n",
    "plt.show()"
   ]
  },
  {
   "cell_type": "raw",
   "id": "13a004e6",
   "metadata": {},
   "source": [
    "It can be seen in the graph that there are time intervals where the sensor data follows the trend, the difference can be fixed with a correction factor that the equipment has, however, there are times where the trends are very different, this analysis added to the review on site, led to a design change project to improve the measurement, the details are in the portfolio pdf document."
   ]
  }
 ],
 "metadata": {
  "kernelspec": {
   "display_name": "Python 3 (ipykernel)",
   "language": "python",
   "name": "python3"
  },
  "language_info": {
   "codemirror_mode": {
    "name": "ipython",
    "version": 3
   },
   "file_extension": ".py",
   "mimetype": "text/x-python",
   "name": "python",
   "nbconvert_exporter": "python",
   "pygments_lexer": "ipython3",
   "version": "3.9.12"
  },
  "toc": {
   "base_numbering": 1,
   "nav_menu": {},
   "number_sections": true,
   "sideBar": true,
   "skip_h1_title": false,
   "title_cell": "Table of Contents",
   "title_sidebar": "Contents",
   "toc_cell": false,
   "toc_position": {},
   "toc_section_display": true,
   "toc_window_display": true
  }
 },
 "nbformat": 4,
 "nbformat_minor": 5
}
